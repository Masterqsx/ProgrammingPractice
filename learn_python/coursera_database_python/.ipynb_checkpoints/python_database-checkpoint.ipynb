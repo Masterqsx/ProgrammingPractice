{
 "cells": [
  {
   "cell_type": "code",
   "execution_count": 3,
   "metadata": {
    "collapsed": false
   },
   "outputs": [
    {
     "name": "stdout",
     "output_type": "stream",
     "text": [
      "Overwriting ./SingleTableSQL/readme.txt\n"
     ]
    }
   ],
   "source": [
    "%%file ./SingleTableSQL/readme.txt\n",
    "Assignment 1:\n",
    "1. Create database, calculate the number of email domain name appears in \"mbox.txt\"\n",
    "2. Only consider the email at the line which starts with \"From:\"\n",
    "3. The schema is |org(TEXT)|count(INTEGER)|"
   ]
  },
  {
   "cell_type": "code",
   "execution_count": 28,
   "metadata": {
    "collapsed": false
   },
   "outputs": [
    {
     "name": "stdout",
     "output_type": "stream",
     "text": [
      "Overwriting ./SingleTableSQL/emaildb.py\n"
     ]
    }
   ],
   "source": [
    "%%file ./SingleTableSQL/emaildb.py\n",
    "import sqlite3\n",
    "connector=sqlite3.connect(\"emaildb.sqlite\");\n",
    "cur=connector.cursor();\n",
    "cur.execute(\"DROP TABLE IF EXISTS Counts\");\n",
    "cur.execute(\"CREATE TABLE Counts(org TEXT, count INTEGER)\");\n",
    "f=open(\"./SingleTableSQL/mbox.txt\");\n",
    "for line in f:\n",
    "    if not line.startswith(\"From:\"): continue;\n",
    "    words=line.split();\n",
    "    org=words[1].split(\"@\")[1];\n",
    "    result=cur.execute(\"SELECT count FROM Counts WHERE org=?\",(org,));\n",
    "    hit_row=result.fetchone();\n",
    "    if hit_row!=None:\n",
    "        cur.execute(\"UPDATE Counts SET count=count+1 WHERE org=?\",(org,));\n",
    "    else:\n",
    "        cur.execute(\"INSERT INTO Counts(org,count) VALUES(?,1)\",(org,));\n",
    "connector.commit();\n",
    "for line in cur.execute(\"SELECT * FROM Counts ORDER BY count DESC LIMIT 10\"):\n",
    "    print line[0],line[1];\n",
    "\n",
    "f.close();\n",
    "cur.close();"
   ]
  },
  {
   "cell_type": "code",
   "execution_count": 31,
   "metadata": {
    "collapsed": false,
    "scrolled": true
   },
   "outputs": [
    {
     "name": "stdout",
     "output_type": "stream",
     "text": [
      "iupui.edu 536\n",
      "umich.edu 491\n",
      "indiana.edu 178\n",
      "caret.cam.ac.uk 157\n",
      "vt.edu 110\n",
      "uct.ac.za 96\n",
      "media.berkeley.edu 56\n",
      "ufp.pt 28\n",
      "gmail.com 25\n",
      "et.gatech.edu 17\n"
     ]
    }
   ],
   "source": [
    "# %load ./SingleTableSQL/emaildb.py\n",
    "import sqlite3\n",
    "connector=sqlite3.connect(\"emaildb.sqlite\");\n",
    "cur=connector.cursor();\n",
    "cur.execute(\"DROP TABLE IF EXISTS Counts\");\n",
    "cur.execute(\"CREATE TABLE Counts(org TEXT, count INTEGER)\");\n",
    "f=open(\"./SingleTableSQL/mbox.txt\");\n",
    "for line in f:\n",
    "    if not line.startswith(\"From:\"): continue;\n",
    "    words=line.split();\n",
    "    org=words[1].split(\"@\")[1];\n",
    "    result=cur.execute(\"SELECT count FROM Counts WHERE org=?\",(org,));\n",
    "    hit_row=result.fetchone();\n",
    "    if hit_row!=None:\n",
    "        cur.execute(\"UPDATE Counts SET count=count+1 WHERE org=?\",(org,));\n",
    "    else:\n",
    "        cur.execute(\"INSERT INTO Counts(org,count) VALUES(?,1)\",(org,));\n",
    "connector.commit();\n",
    "for line in cur.execute(\"SELECT * FROM Counts ORDER BY count DESC LIMIT 10\"):\n",
    "    print line[0],line[1];\n",
    "\n",
    "f.close();\n",
    "cur.close();"
   ]
  },
  {
   "cell_type": "code",
   "execution_count": 8,
   "metadata": {
    "collapsed": false
   },
   "outputs": [
    {
     "name": "stdout",
     "output_type": "stream",
     "text": [
      "Overwriting ./MultiTableSQL/readme.txt\n"
     ]
    }
   ],
   "source": [
    "%%file ./MultiTableSQL/readme.txt\n",
    "Assignment 2:\n",
    "1. Parse the \"Traks\" dict in \"Library.xml\" into database\n",
    "2. The schema of database is:\n",
    "    Artist: |id(INTEGER NOT NULL PRIMARY KEY AUTOINCREMENT UNIQUE)|name(TEXT UNIQUE)|\n",
    "    Genre:  |id(INTEGER NOT NULL PRIMARY KEY AUTOINCREMENT UNIQUE)|name(TEXT UNIQUE)|\n",
    "    Album:  |id(INTEGER NOT NULL PRIMARY KEY AUTOINCREMENT UNIQUE)|artist_id(INTEGER)|title(TEXT UNIQUE)|\n",
    "    Track:  |id(INTEGER NOT NULL PRIMARY KEY AUTOINCREMENT UNIQUE)|title(TEXT UNIQUE)|album_id(INTEGER)|\n",
    "            |genre_id(INTEGER)|len(INTEGER)|rating(INTEGER)|count(INTEGER)|\n",
    "3. Combine all the table into table:\n",
    "    |Track|Artist|Album|Genre|"
   ]
  },
  {
   "cell_type": "code",
   "execution_count": 38,
   "metadata": {
    "collapsed": false
   },
   "outputs": [
    {
     "name": "stdout",
     "output_type": "stream",
     "text": [
      "Overwriting ./MultiTableSQL/xmldb.py\n"
     ]
    }
   ],
   "source": [
    "%%file ./MultiTableSQL/xmldb.py\n",
    "import xml.etree.ElementTree as ET\n",
    "import sqlite3\n",
    "\n",
    "connector=sqlite3.connect('trackdb.sqlite');\n",
    "cur=connector.cursor();\n",
    "cur.executescript('''\n",
    "    DROP TABLE IF EXISTS Artist;\n",
    "    DROP TABLE IF EXISTS Genre;\n",
    "    DROP TABLE IF EXISTS Album;\n",
    "    DROP TABLE IF EXISTS Track;\n",
    "    CREATE TABLE Artist(\n",
    "        id INTEGER NOT NULL PRIMARY KEY AUTOINCREMENT UNIQUE,\n",
    "        name TEXT UNIQUE);\n",
    "    CREATE TABLE Genre(\n",
    "        id INTEGER NOT NULL PRIMARY KEY AUTOINCREMENT UNIQUE,\n",
    "        name TEXT UNIQUE);\n",
    "    CREATE TABLE Album(\n",
    "        id INTEGER NOT NULL PRIMARY KEY AUTOINCREMENT UNIQUE,\n",
    "        artist_id INTEGER,\n",
    "        title TEXT UNIQUE);\n",
    "    CREATE TABLE Track(\n",
    "        id INTEGER NOT NULL PRIMARY KEY AUTOINCREMENT UNIQUE,\n",
    "        title TEXT UNIQUE,\n",
    "        album_id INTEGER,\n",
    "        genre_id INTEGER,\n",
    "        len INTEGER,\n",
    "        rating INTEGER,\n",
    "        count INTEGER);\n",
    "''');\n",
    "f=open(\"./MultiTableSQL/tracks/Library.xml\");\n",
    "XmlContents=ET.parse(f);\n",
    "def lookup(d,key):\n",
    "    flag=False;\n",
    "    for child in d:\n",
    "        if flag: return child.text;\n",
    "        if child.tag == \"key\" and child.text == key:\n",
    "            flag=True;\n",
    "    return None;\n",
    "Tracks=XmlContents.findall(\"dict/dict/dict\");\n",
    "for Track in Tracks:\n",
    "    if (lookup(Track,\"Track ID\") is None): continue;\n",
    "    \n",
    "    name = lookup(Track, 'Name');\n",
    "    artist = lookup(Track, 'Artist');\n",
    "    album = lookup(Track, 'Album');\n",
    "    count = lookup(Track, 'Play Count');\n",
    "    rating = lookup(Track, 'Rating');\n",
    "    length = lookup(Track, 'Total Time');\n",
    "    genre = lookup(Track, 'Genre');\n",
    "    if name is None or artist is None or album is None or genre is None: continue;\n",
    "    \n",
    "    cur.execute(\"INSERT OR IGNORE INTO Artist(name) VALUES(?)\",(artist,));\n",
    "    cur.execute(\"SELECT id FROM Artist WHERE name = ?\",(artist,));\n",
    "    artist_id=cur.fetchone()[0];\n",
    "    \n",
    "    cur.execute(\"INSERT OR IGNORE INTO Genre(name) VALUES(?)\",(genre,));\n",
    "    cur.execute(\"SELECT id FROM Genre WHERE name = ?\",(genre,));\n",
    "    genre_id=cur.fetchone()[0];\n",
    "    \n",
    "    cur.execute(\"INSERT OR IGNORE INTO Album(artist_id,title) VALUES(?,?)\",(artist_id,album,));\n",
    "    cur.execute(\"SELECT id FROM Album WHERE title = ?\",(album,));\n",
    "    album_id=cur.fetchone()[0];\n",
    "    \n",
    "    cur.execute(\"INSERT OR REPLACE INTO Track(title,album_id,genre_id,len,rating,count) VALUES(?,?,?,?,?,?)\",(name,album_id,genre_id,length,rating,count));\n",
    "    \n",
    "connector.commit();\n",
    "print \"Track|\",\"Artist|\",\"Album|\",\"Genre\";\n",
    "for tuple in cur.execute('''\n",
    "    SELECT Track.title, Artist.name, Album.title, Genre.name \n",
    "    FROM Track JOIN Genre JOIN Album JOIN Artist \n",
    "    ON Track.genre_id = Genre.id and Track.album_id = Album.id \n",
    "        AND Album.artist_id = Artist.id\n",
    "    ORDER BY Artist.name,Track.title LIMIT 3\n",
    "    '''):\n",
    "    print tuple[0],'|',tuple[1],'|',tuple[2],'|',tuple[3];\n"
   ]
  },
  {
   "cell_type": "code",
   "execution_count": 41,
   "metadata": {
    "collapsed": false
   },
   "outputs": [
    {
     "name": "stdout",
     "output_type": "stream",
     "text": [
      "Track| Artist| Album| Genre\r\n",
      "Chase the Ace | AC/DC | Who Made Who | Rock\r\n",
      "D.T. | AC/DC | Who Made Who | Rock\r\n",
      "For Those About To Rock (We Salute You) | AC/DC | Who Made Who | Rock\r\n"
     ]
    }
   ],
   "source": [
    "!python ./MultiTableSQL/xmldb.py"
   ]
  },
  {
   "cell_type": "code",
   "execution_count": 16,
   "metadata": {
    "collapsed": false
   },
   "outputs": [
    {
     "name": "stdout",
     "output_type": "stream",
     "text": [
      "Overwriting ./test.py\n"
     ]
    }
   ],
   "source": [
    "%%file ./test.py\n",
    "import re\n",
    "email=\"abc@abc.com\";\n",
    "m=re.match(\"(.*)@(.*)\",email);\n",
    "if m!=None:\n",
    "    print m.group(1)"
   ]
  },
  {
   "cell_type": "code",
   "execution_count": 20,
   "metadata": {
    "collapsed": false
   },
   "outputs": [],
   "source": [
    "# %load test.py\n",
    "import re\n",
    "email=\"abc\";\n",
    "m=re.match(\"(.*)@(.*)\",email);\n",
    "if m!=None:\n",
    "    print m.group(1)"
   ]
  }
 ],
 "metadata": {
  "kernelspec": {
   "display_name": "Python 2",
   "language": "python",
   "name": "python2"
  },
  "language_info": {
   "codemirror_mode": {
    "name": "ipython",
    "version": 2
   },
   "file_extension": ".py",
   "mimetype": "text/x-python",
   "name": "python",
   "nbconvert_exporter": "python",
   "pygments_lexer": "ipython2",
   "version": "2.7.11"
  }
 },
 "nbformat": 4,
 "nbformat_minor": 0
}
